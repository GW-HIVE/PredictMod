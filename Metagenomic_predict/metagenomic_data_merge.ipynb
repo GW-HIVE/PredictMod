{
 "cells": [
  {
   "cell_type": "markdown",
   "metadata": {},
   "source": [
    "Performing Data Merge of Each Bacterial Organisms Relative Abundance Into a Single Spreadsheet \n",
    "\n",
    "Author: Urnisha Bhuiyan\n",
    "Date: January 17th, 2023\n",
    "Written in: Jupyter Notebooks \n",
    "Availability: https://github.com/GW-HIVE/PredictMod\n",
    "\n",
    "Objective\n",
    "After using the \"calculate_rel_abund.ipynb\" script to generate relative abundance for each sample, this code will: \n",
    "1) Extract the \"Reference\" and \"Relative Abundance\" columns from each sample file \n",
    "2) Rename the \"Relative Abundance\" column in each file to the respective sample name    \n",
    "3) Merge all sample columns into a single file called \"merged_table.csv\" based off of the \"Reference\" column. \n",
    "\n",
    "Additional Notes \n",
    "This code should be executed in the same folder containing all input csv files. Make sure each input file is named after it's respective sample to keep track of your data. This code will adjust your original input files, so make sure to keep a copy of the original files if you do not want to lose all other columns. \n"
   ]
  },
  {
   "cell_type": "code",
   "execution_count": null,
   "metadata": {},
   "outputs": [],
   "source": [
    "import pandas as pd\n",
    "import glob\n",
    "from functools import reduce\n",
    "\n",
    "files = glob.glob('*.csv')\n",
    "for file in files: \n",
    "    df = pd.read_csv(file) #opens each csv file \n",
    "    df = df[[\"Reference\",\"Relative Abundance\"]] #keeps only Reference and Relative Abundance columns   \n",
    "    df = df.dropna(axis=0) #drops all NA values \n",
    "    df[\"Relative Abundance\"] = df.rename(columns={\"Relative Abundance\": file}, inplace=True) #Renames Relative Abundance column to represent file name\n",
    "    df = df.drop('Relative Abundance', axis=1) #drops empty Relative Abundance column\n",
    "    df.to_csv(file, index=False) #Applies changes to respective csv files  \n",
    "print(\"Data Filter and Relative Abundance Reanme Complete\")\n",
    "\n",
    "\n",
    "frame = [] #create empty frame\n",
    "for file in files:\n",
    "    frame.append(pd.read_csv(file)) #open and append all columns for each file together \n",
    "    df = reduce(lambda  left,right: pd.merge(left,right,on=['Reference'], how='outer'), frame) #performs a data merge of abundances based off of \"Reference\" column\n",
    "    df.fillna(0, inplace=True) #fills NaN values in as 0\n",
    "\n",
    "pd.DataFrame.to_csv(df, \"merged_table.csv\")\n",
    "print(\"Data Merge Complete\")"
   ]
  }
 ],
 "metadata": {
  "language_info": {
   "name": "python"
  },
  "orig_nbformat": 4
 },
 "nbformat": 4,
 "nbformat_minor": 2
}
